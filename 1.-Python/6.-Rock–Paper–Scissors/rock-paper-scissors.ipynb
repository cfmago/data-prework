{
 "cells": [
  {
   "cell_type": "markdown",
   "metadata": {},
   "source": [
    "<img src=\"https://bit.ly/2VnXWr2\" width=\"100\" align=\"left\">"
   ]
  },
  {
   "cell_type": "markdown",
   "metadata": {},
   "source": [
    "# Rock, Paper & Scissors\n",
    "\n",
    "Let's play the famous game against our computer. You can check the rules [here](https://en.wikipedia.org/wiki/Rock%E2%80%93paper%E2%80%93scissors). \n",
    "\n",
    "## Task\n",
    "Create a program that imitates the playability of the well known game of rock, paper, scissors. Follow the guidelines provided.\n",
    "\n",
    "## Tools\n",
    "1. Loop: **for/while**\n",
    "2. Functions: **input(), print()...**\n",
    "3. Conditional statements: **if, elif, else**\n",
    "4. Definition of functions. Modular programming\n",
    "5. Import modules\n",
    "\n",
    "**To solve this challenge, the use of functions is recommended.**\n",
    "\n",
    "#### 1. Import the choice function of the random module."
   ]
  },
  {
   "cell_type": "code",
   "execution_count": 154,
   "metadata": {},
   "outputs": [],
   "source": [
    "import random\n",
    "\n",
    "#random.choice()"
   ]
  },
  {
   "cell_type": "markdown",
   "metadata": {},
   "source": [
    "#### 2. Create a list that includes the 3 possible gesture options of the game: 'rock', 'paper' or 'scissors'. Store the list in a variable called `gestures`."
   ]
  },
  {
   "cell_type": "code",
   "execution_count": 155,
   "metadata": {},
   "outputs": [],
   "source": [
    "gestures = [\"rock\", \"paper\", \"scissors\"]"
   ]
  },
  {
   "cell_type": "markdown",
   "metadata": {},
   "source": [
    "#### 3. Create a variable called `n_rounds` to store the maximum number of rounds to play in a game. \n",
    "Remember that the number of rounds must be odd: 1, 3, 5, ..."
   ]
  },
  {
   "cell_type": "code",
   "execution_count": 156,
   "metadata": {},
   "outputs": [],
   "source": [
    "n_rounds = 3"
   ]
  },
  {
   "cell_type": "markdown",
   "metadata": {},
   "source": [
    "#### 4. Create a variable called `rounds_to_win` to store the number of rounds that a player must win to win the game.\n",
    "**Hint**: the value stored in `rounds_to_win` depends on the value of `n_rounds`. "
   ]
  },
  {
   "cell_type": "code",
   "execution_count": 157,
   "metadata": {},
   "outputs": [],
   "source": [
    "rounds_to_win = 2"
   ]
  },
  {
   "cell_type": "markdown",
   "metadata": {},
   "source": [
    "#### 5. Create two variables to store the number of rounds that the computer and the player have won. Call these variables `cpu_score` and `player_score`."
   ]
  },
  {
   "cell_type": "code",
   "execution_count": 158,
   "metadata": {},
   "outputs": [],
   "source": [
    "cpu_score = 0\n",
    "player_score = 0\n",
    "\n",
    "#Number of rounds that have been done\n",
    "rnd = 0"
   ]
  },
  {
   "cell_type": "code",
   "execution_count": 159,
   "metadata": {},
   "outputs": [],
   "source": [
    "#Welcome prompt\n",
    "\n",
    "def welcome():\n",
    "    print(\"The rules of the game are: paper beats rock, rock beats scissors, and scissors beats paper. The best of three wins.\")"
   ]
  },
  {
   "cell_type": "markdown",
   "metadata": {},
   "source": [
    "#### 6. Define a function that randomly returns one of the 3 gesture options.\n",
    "You will use this function to simulate the gesture choice of the computer. "
   ]
  },
  {
   "cell_type": "code",
   "execution_count": 160,
   "metadata": {},
   "outputs": [
    {
     "name": "stdout",
     "output_type": "stream",
     "text": [
      "Computer chose paper.\n"
     ]
    }
   ],
   "source": [
    "\n",
    "def cpu_choice():\n",
    "    cpu_ch = random.choice(gestures)\n",
    "    if cpu_ch == \"rock\":\n",
    "        print(\"Computer chose rock.\")\n",
    "    elif cpu_ch == \"paper\":\n",
    "        print(\"Computer chose paper.\")\n",
    "    elif cpu_ch == \"scissors\":\n",
    "        print(\"Computer chose scissors.\")\n",
    "    return cpu_ch\n",
    "\n",
    "cpu_ch = cpu_choice()"
   ]
  },
  {
   "cell_type": "code",
   "execution_count": 161,
   "metadata": {},
   "outputs": [
    {
     "name": "stdout",
     "output_type": "stream",
     "text": [
      "paper\n"
     ]
    }
   ],
   "source": [
    "print(cpu_ch)"
   ]
  },
  {
   "cell_type": "markdown",
   "metadata": {},
   "source": [
    "#### 7. Define a function that asks the player which is the gesture he or she wants to show: 'rock', 'paper' or 'scissors'.\n",
    "The player should only be allowed to choose one of the 3 gesture options. If the player's choice is not rock, paper or scissors, keep asking until it is."
   ]
  },
  {
   "cell_type": "code",
   "execution_count": 162,
   "metadata": {},
   "outputs": [
    {
     "name": "stdout",
     "output_type": "stream",
     "text": [
      "Please choose one of the following: 'rock', 'paper' or 'scissors'.\n",
      "Your choice: rock\n"
     ]
    }
   ],
   "source": [
    "\n",
    "def player_choice(gestures):\n",
    "    while True:\n",
    "        print(\"Please choose one of the following: 'rock', 'paper' or 'scissors'.\")\n",
    "        player_ch = input(\"Your choice: \").lower()\n",
    "        if player_ch in gestures:\n",
    "            return player_ch            \n",
    "        else:\n",
    "            print(\"Invalid input.\")\n",
    "            \n",
    "player_ch = player_choice(gestures)\n",
    "#player_choice()"
   ]
  },
  {
   "cell_type": "code",
   "execution_count": 163,
   "metadata": {},
   "outputs": [
    {
     "name": "stdout",
     "output_type": "stream",
     "text": [
      "rock\n"
     ]
    }
   ],
   "source": [
    "print(player_ch)"
   ]
  },
  {
   "cell_type": "markdown",
   "metadata": {},
   "source": [
    "#### 8. Define a function that checks who won a round. \n",
    "The function should return 0 if there is a tie, 1 if the computer wins and 2 if the player wins."
   ]
  },
  {
   "cell_type": "code",
   "execution_count": 164,
   "metadata": {},
   "outputs": [],
   "source": [
    "#result = 0\n",
    "\n",
    "def check_winner(cpu,player):\n",
    "    if cpu == player:\n",
    "        return 0\n",
    "    elif (cpu == 'paper' and player == 'rock') or (cpu == 'scissors' and player == 'paper') or (cpu == 'rock' and player == 'scissors'):\n",
    "        return 1\n",
    "    elif (cpu == 'rock' and player == 'paper') or (cpu == 'paper' and player == 'scissors') or (cpu == 'scissors' and player == 'rock'):\n",
    "        return 2\n",
    "\n",
    "#result = check_winner(cpu_ch,player_ch)\n",
    "#print(result)"
   ]
  },
  {
   "cell_type": "markdown",
   "metadata": {},
   "source": [
    "#### 9. Define a function that prints the choice of the computer, the choice of the player and a message that announces who won the current round. \n",
    "You should also use this function to update the variables that count the number of rounds that the computer and the player have won. The score of the winner increases by one point. If there is a tie, the score does not increase."
   ]
  },
  {
   "cell_type": "code",
   "execution_count": 165,
   "metadata": {},
   "outputs": [
    {
     "name": "stdout",
     "output_type": "stream",
     "text": [
      "It's a tie!\n"
     ]
    }
   ],
   "source": [
    "#player_score and cpu_score increment outside message(result)\n",
    "\n",
    "def message(result):        \n",
    "    if result == 0:\n",
    "        print(\"It's a tie!\")\n",
    "    elif result == 1:\n",
    "        print (\"You lose the round!\")\n",
    "    elif result == 2:\n",
    "        print (\"You win the round!\")\n",
    "\n",
    "message(result)"
   ]
  },
  {
   "cell_type": "markdown",
   "metadata": {},
   "source": [
    "#### 10. Now it's time to code the execution of the game using the functions and variables you defined above. \n",
    "\n",
    "First, create a loop structure that repeats while no player reaches the minimum score necessary to win and the number of rounds is less than the maximum number of rounds to play in a game.  \n",
    "\n",
    "Inside the loop, use the functions and variables above to create the execution of a round: ask for the player's choice, generate the random choice of the computer, show the round results, update the scores, etc. "
   ]
  },
  {
   "cell_type": "code",
   "execution_count": 166,
   "metadata": {},
   "outputs": [
    {
     "name": "stdout",
     "output_type": "stream",
     "text": [
      "The rules of the game are: paper beats rock, rock beats scissors, and scissors beats paper. The best of three wins.\n",
      "Please choose one of the following: 'rock', 'paper' or 'scissors'.\n",
      "Your choice: rock\n",
      "Computer chose paper.\n",
      "You lose the round!\n",
      "Please choose one of the following: 'rock', 'paper' or 'scissors'.\n",
      "Your choice: paper\n",
      "Computer chose paper.\n",
      "It's a tie!\n",
      "Please choose one of the following: 'rock', 'paper' or 'scissors'.\n",
      "Your choice: paper\n",
      "Computer chose scissors.\n",
      "You lose the round!\n",
      "Game Over\n"
     ]
    }
   ],
   "source": [
    "# Game\n",
    "\n",
    "#def play():\n",
    "n_rounds = 3\n",
    "rounds_to_win = 2\n",
    "rnd = 0\n",
    "player_score = 0\n",
    "cpu_score = 0\n",
    "\n",
    "welcome()\n",
    "\n",
    "while rnd < n_rounds:\n",
    "    rnd += 1\n",
    "    player = player_choice(gestures)\n",
    "    cpu = cpu_choice()\n",
    "    res = check_winner(cpu,player)\n",
    "    message(res)\n",
    "    if res == 1:\n",
    "        cpu_score += 1\n",
    "    elif res == 2:\n",
    "        player_score += 1\n",
    "\n",
    "print(\"Game Over\")"
   ]
  },
  {
   "cell_type": "markdown",
   "metadata": {},
   "source": [
    "#### 11. Print the winner of the game based on who won more rounds.\n",
    "Remember that the game might be tied. "
   ]
  },
  {
   "cell_type": "code",
   "execution_count": 174,
   "metadata": {},
   "outputs": [
    {
     "name": "stdout",
     "output_type": "stream",
     "text": [
      "The rules of the game are: paper beats rock, rock beats scissors, and scissors beats paper. The best of three wins.\n",
      "Please choose one of the following: 'rock', 'paper' or 'scissors'.\n",
      "Your choice: rock\n",
      "Computer chose scissors.\n",
      "You win the round!\n",
      "Please choose one of the following: 'rock', 'paper' or 'scissors'.\n",
      "Your choice: paper\n",
      "Computer chose paper.\n",
      "It's a tie!\n",
      "Please choose one of the following: 'rock', 'paper' or 'scissors'.\n",
      "Your choice: rock\n",
      "Computer chose scissors.\n",
      "You win the round!\n",
      "Game Over\n",
      "You win!\n"
     ]
    }
   ],
   "source": [
    "def play():\n",
    "    n_rounds = 3\n",
    "    rounds_to_win = 2\n",
    "    rnd = 0\n",
    "    player_score = 0\n",
    "    cpu_score = 0\n",
    "\n",
    "    welcome()\n",
    "\n",
    "    while rnd < n_rounds:\n",
    "        rnd += 1\n",
    "        player = player_choice(gestures)\n",
    "        cpu = cpu_choice()\n",
    "        res = check_winner(cpu,player)\n",
    "        message(res)\n",
    "        if res == 1:\n",
    "            cpu_score += 1\n",
    "        elif res == 2:\n",
    "            player_score += 1\n",
    "\n",
    "    print(\"Game Over\")\n",
    "    \n",
    "    if cpu_score == rounds_to_win:\n",
    "        print(\"You lose!\")\n",
    "    if player_score == rounds_to_win:\n",
    "        print(\"You win!\")\n",
    "    else:\n",
    "        print(\"It's a tie!\")\n",
    "        \n",
    "play()"
   ]
  },
  {
   "cell_type": "markdown",
   "metadata": {},
   "source": [
    "# Bonus: Rock, Paper, Scissors, Lizard & Spock\n",
    "![](images/rpsls.jpg)\n",
    "\n",
    "In this challenge, you need to improve the previous game by adding two new options. To know more about the rules of the improved version of rock, paper, scissors, check this [link](http://www.samkass.com/theories/RPSSL.html). \n",
    "\n",
    "In addition, you will also need to improve how the game interacts with the player: the number of rounds to play, which must be an odd number, will be requested to the user until a valid number is entered. Define a new function to make that request.\n",
    "\n",
    "**Hint**: Try to reuse the code that you already coded in the previous challenge. If your code is efficient, this bonus will only consist of simple modifications to the original game."
   ]
  },
  {
   "cell_type": "code",
   "execution_count": null,
   "metadata": {},
   "outputs": [],
   "source": []
  }
 ],
 "metadata": {
  "kernelspec": {
   "display_name": "Python 3",
   "language": "python",
   "name": "python3"
  },
  "language_info": {
   "codemirror_mode": {
    "name": "ipython",
    "version": 3
   },
   "file_extension": ".py",
   "mimetype": "text/x-python",
   "name": "python",
   "nbconvert_exporter": "python",
   "pygments_lexer": "ipython3",
   "version": "3.7.6"
  }
 },
 "nbformat": 4,
 "nbformat_minor": 2
}
